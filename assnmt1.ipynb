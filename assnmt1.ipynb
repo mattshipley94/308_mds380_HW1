{
 "cells": [
  {
   "cell_type": "code",
   "execution_count": 1,
   "metadata": {
    "collapsed": false
   },
   "outputs": [],
   "source": [
    "import matplotlib\n",
    "import numpy as np\n",
    "import pandas as pd\n",
    "import matplotlib.mlab as mlab\n",
    "import matplotlib.pyplot as plt\n",
    "import scipy as sc\n",
    "import csv\n",
    "import plotly as py\n",
    "import googlemaps as goog\n",
    "import geopy as geo\n",
    "import sklearn as skl\n",
    "from sklearn import cluster\n",
    "\n",
    "# import data table as a data frame\n",
    "MedicareTable = pd.read_table('D:\\Medicare_Aggregate\\Medicare_Physician_and_Other_Supplier_NPI_Aggregate_CY2014.txt', sep='\\t',engine='python')"
   ]
  },
  {
   "cell_type": "code",
   "execution_count": 3,
   "metadata": {
    "collapsed": false
   },
   "outputs": [],
   "source": [
    "#Display 100 rows from columns\n",
    "#MedicareTable.loc[1:20,:]\n",
    "\n",
    "#pd.describe(MedicareTable.loc[:, 'average_Medicare_standard_amt'])\n",
    "#MedicareTable['total_drug_unique_benes'].dropna().describe()"
   ]
  },
  {
   "cell_type": "code",
   "execution_count": 4,
   "metadata": {
    "collapsed": false
   },
   "outputs": [],
   "source": [
    "#submittedCharge = MedicareTable[MedicareTable['nppes_entity_code']=='I'].loc[:,'total_submitted_chrg_amt']\n",
    "#medicarePayment = MedicareTable[MedicareTable['nppes_entity_code']=='I'].loc[:,'total_medicare_payment_amt']\n",
    "#\n",
    "#plt.scatter(submittedCharge, (medicarePayment/submittedCharge))\n",
    "#plt.show()"
   ]
  },
  {
   "cell_type": "code",
   "execution_count": 5,
   "metadata": {
    "collapsed": false,
    "scrolled": true
   },
   "outputs": [],
   "source": [
    "# Create new matrix, selectedVarMatrix, containing only our three variables to cluster on\n",
    "selectedVar = ['total_services','total_submitted_chrg_amt','total_medicare_stnd_amt']\n",
    "reducedVarMatrix = MedicareTable[MedicareTable['nppes_entity_code']=='I'].loc[:,selectedVar]\n",
    "#figure = pd.tools.plotting.scatter_matrix(selectedVarMatrix, alpha=0.2, figsize=(15,15))\n",
    "#plt.show()\n"
   ]
  },
  {
   "cell_type": "code",
   "execution_count": 6,
   "metadata": {
    "collapsed": false
   },
   "outputs": [],
   "source": [
    "# Create reducedVarMatrix, which eliminates any tuples containing \n",
    "#reducedVarMatrix = selectedVarMatrix[pd.notnull(MedicareTable['total_services'])].loc[:,:]\n",
    "#reducedVarMatrix = reducedVarMatrix[pd.notnull(reducedVarMatrix['total_submitted_chrg_amt'])].loc[:,:]\n",
    "#reducedVarMatrix = reducedVarMatrix[pd.notnull(reducedVarMatrix['total_medicare_stnd_amt'])].loc[:,:]\n",
    "#reducedVarMatrix = selectedVarMatrix"
   ]
  },
  {
   "cell_type": "code",
   "execution_count": 7,
   "metadata": {
    "collapsed": false
   },
   "outputs": [
    {
     "name": "stdout",
     "output_type": "stream",
     "text": [
      "Column one mean is now:  4.58262581174e-17\n",
      "Column two standard deviation is now:  1.0\n"
     ]
    }
   ],
   "source": [
    "# Normalize variables\n",
    "normVarMatrix = skl.preprocessing.normalize(reducedVarMatrix, norm='l1', axis=0)\n",
    "\n",
    "scale = skl.preprocessing.StandardScaler().fit(reducedVarMatrix[:])\n",
    "normVarMatrix = scale.transform(reducedVarMatrix[:])\n",
    "\n",
    "print(\"Column one mean is now: \", np.mean(normVarMatrix[:,0]))\n",
    "print(\"Column two standard deviation is now: \", np.std(normVarMatrix[:,1]))"
   ]
  },
  {
   "cell_type": "code",
   "execution_count": 8,
   "metadata": {
    "collapsed": false
   },
   "outputs": [],
   "source": [
    "#Split data into 5 random samples\n",
    "#randomSampleLength = len(normVarMatrix[:,0])\n",
    "#random = np.random.uniform(low = 0.0, high=5.0, size=randomSampleLength)\n",
    "\n",
    "#random1 = all(0.0 <= random < 1)\n",
    "#sample1 = normVarMatrix[(0.0 <= random < 1), :]\n",
    "#random >= 0\n",
    "\n",
    "#sample1 = normVarMatrix[0:50000,:]"
   ]
  },
  {
   "cell_type": "code",
   "execution_count": 9,
   "metadata": {
    "collapsed": false
   },
   "outputs": [
    {
     "name": "stdout",
     "output_type": "stream",
     "text": [
      "[[ -0.11783874  -0.25622414  -0.24232071]\n",
      " [ 27.68840978  16.01640696  17.64281585]\n",
      " [  0.19939492   0.75140139   0.68069987]\n",
      " [  7.69666604   8.88652929   9.44396467]\n",
      " [  1.49311371   3.45515631   3.23427449]]\n",
      "[2 2 0 ..., 0 0 0]\n"
     ]
    }
   ],
   "source": [
    "kmeans = cluster.KMeans(n_clusters = 5)\n",
    "kmeans.fit(normVarMatrix)\n",
    "\n",
    "centroid = kmeans.cluster_centers_\n",
    "labels = kmeans.labels_\n",
    "\n",
    "print(centroid)\n",
    "print(labels)"
   ]
  },
  {
   "cell_type": "code",
   "execution_count": 68,
   "metadata": {
    "collapsed": false
   },
   "outputs": [],
   "source": [
    "color_map = {0:'r',\n",
    "            1:'b',\n",
    "            2:'c',\n",
    "            3:'y',\n",
    "            4:'k',\n",
    "            5:'m',\n",
    "            6:'y',\n",
    "            7:'w',\n",
    "            8:'b',\n",
    "            9:'y', }\n",
    "\n",
    "label_color = [color_map[l] for l in labels]\n",
    "\n",
    "plt.scatter(reducedVarMatrix.loc[:,'total_submitted_chrg_amt'],reducedVarMatrix.loc[:,'total_medicare_stnd_amt'],c=label_color)\n",
    "plt.show()"
   ]
  },
  {
   "cell_type": "code",
   "execution_count": 11,
   "metadata": {
    "collapsed": false
   },
   "outputs": [],
   "source": [
    "#figure = pd.tools.plotting.scatter_matrix(selectedVarMatrix, alpha=0.2, figsize=(15,15))\n",
    "#plt.show()"
   ]
  },
  {
   "cell_type": "code",
   "execution_count": 12,
   "metadata": {
    "collapsed": false
   },
   "outputs": [],
   "source": [
    "zipTable=MedicareTable[MedicareTable['nppes_entity_code']=='I']\n",
    "outliers=zipTable[labels==1].loc[:,'nppes_provider_zip']\n",
    "outliers=np.random.choice(outliers,size=300,replace=False)"
   ]
  },
  {
   "cell_type": "code",
   "execution_count": 13,
   "metadata": {
    "collapsed": false
   },
   "outputs": [],
   "source": [
    "newZips = np.arange(len(outliers))\n",
    "\n",
    "for i in range(len(outliers)):\n",
    "    if int(outliers[i]) > 99999:\n",
    "        remainder = int(outliers[i]) % 10000\n",
    "        newZips[i] = int(outliers[i]) - remainder\n",
    "        newZips[i] = int(outliers[i])/10000\n",
    "    else:\n",
    "        remainder = int(outliers[i]) % 10000000\n",
    "        newZips[i] = int(outliers[i]) - remainder\n",
    "        newZips[i] = int(outliers[i])/10000"
   ]
  },
  {
   "cell_type": "code",
   "execution_count": 14,
   "metadata": {
    "collapsed": false
   },
   "outputs": [],
   "source": [
    "for i in range(len(newZips)):\n",
    "    if newZips[i] < 10000:\n",
    "        np.delete(newZips, i)"
   ]
  },
  {
   "cell_type": "code",
   "execution_count": 15,
   "metadata": {
    "collapsed": false
   },
   "outputs": [],
   "source": [
    "longitudes = np.arange(len(outliers))\n",
    "latitudes = np.arange(len(outliers))\n",
    "geolocator = geo.geocoders.Nominatim()\n",
    "\n",
    "longitudes = longitudes.astype(float)\n",
    "latitudes = latitudes.astype(float)"
   ]
  },
  {
   "cell_type": "code",
   "execution_count": 24,
   "metadata": {
    "collapsed": false
   },
   "outputs": [],
   "source": [
    "for i in range(len(outliers)):\n",
    "    zipcode = str(newZips[i])\n",
    "    USA = \", United States\"\n",
    "    search = zipcode + USA\n",
    "    location = geolocator.geocode(search)\n",
    "    if ((location is None) == False):\n",
    "        latitudes[i] = location.latitude\n",
    "        longitudes[i] = location.longitude"
   ]
  },
  {
   "cell_type": "code",
   "execution_count": 56,
   "metadata": {
    "collapsed": false
   },
   "outputs": [],
   "source": [
    "to_delete = np.arange(len(longitudes))\n",
    "\n",
    "for i in np.arange(len(longitudes)):\n",
    "    if (-125 <= longitudes[i] <= -60) == False:\n",
    "        to_delete[i] = -1\n",
    "\n",
    "for i in np.arange(len(longitudes)-1, -1, -1):\n",
    "    if to_delete[i] == -1:\n",
    "        longitudes = np.delete(longitudes,i)\n",
    "        latitudes = np.delete(latitudes,i)"
   ]
  },
  {
   "cell_type": "code",
   "execution_count": 65,
   "metadata": {
    "collapsed": false
   },
   "outputs": [
    {
     "name": "stdout",
     "output_type": "stream",
     "text": [
      "Column one mean is now:  4.58262581174e-17\n",
      "Column two standard deviation is now:  1.0\n"
     ]
    }
   ],
   "source": [
    "# Normalize variables\n",
    "coordinates = np.hstack((longitudes.reshape(-1,1),latitudes.reshape(-1,1)))\n",
    "\n",
    "normCoordMatrix = skl.preprocessing.normalize(coordinates, norm='l1', axis=0)\n",
    "\n",
    "scale = skl.preprocessing.StandardScaler().fit(coordinates[:])\n",
    "normCoordMatrix = scale.transform(coordinates[:])\n",
    "\n",
    "print(\"Column one mean is now: \", np.mean(normVarMatrix[:,0]))\n",
    "print(\"Column two standard deviation is now: \", np.std(normVarMatrix[:,1]))"
   ]
  },
  {
   "cell_type": "code",
   "execution_count": 66,
   "metadata": {
    "collapsed": false
   },
   "outputs": [
    {
     "name": "stdout",
     "output_type": "stream",
     "text": [
      "[[ 0.59957129  1.06120171]\n",
      " [-1.93225266  0.37244527]\n",
      " [ 0.56909128 -1.35035473]\n",
      " [ 0.02511423 -0.10914468]]\n",
      "[2 0 2 2 3 1 0 2 3 0 2 0 2 0 2 2 1 0 1 2 1 1 3 0 3 2 2 2 0 2 0 1 3 1 0 0 1\n",
      " 2 1 0 0 0 3 0 0 0 3 3 0 0 1 3 3 1 3 3 0 3 2 0 0 0 2 2 3 1 1 0 3 2 0 2 1 3\n",
      " 3 1 3 0 0 2 3 1 0 3 3 0 0 2 3 3 2 3 2 0 0 0 3 2 0 3 3 3 1 2 0 1 3 2 2 0 3\n",
      " 2 1 2 1 0 3 1 3 1 0 0 0 3 3 2 0 1 1 1 2 0 1 3 2 2 1 1 1 2 3 0 2 2 1 3 0 2\n",
      " 2 2 2 3 3 2 0 0 2 0 2 0 1 1 2 3 0 3 2 3 2 1 0 3 2 1 0 3 1 3 0 3 3 2 0 2 2\n",
      " 0 1 2 3 3 2 1 3 2 3 0 0 3 1 3 1 3 2 2 1 0 2 3 2 2 0 3 3 0 3 0 2 0 2 3 0 1\n",
      " 3 3 2 3 0 3 3 2 3 3 0 3 2 3 3 3 2 1 0 2 0 2 1 3 0 2 0 3 0 0 3 0 1 0 0 0 2\n",
      " 0 1 0 3 0 0 3 0 3 3 2 0 2 1 2 3 0 0 3 2 1 3 0 1]\n"
     ]
    }
   ],
   "source": [
    "kmeans = cluster.KMeans(n_clusters = 4)\n",
    "kmeans.fit(normCoordMatrix)\n",
    "\n",
    "centroid = kmeans.cluster_centers_\n",
    "labels = kmeans.labels_\n",
    "\n",
    "print(centroid)\n",
    "print(labels)"
   ]
  },
  {
   "cell_type": "code",
   "execution_count": 64,
   "metadata": {
    "collapsed": false
   },
   "outputs": [
    {
     "name": "stdout",
     "output_type": "stream",
     "text": [
      "[[ -82.37184447   29.67751658]\n",
      " [ -87.34128389   41.41434988]\n",
      " [ -81.92097038   28.92674843]\n",
      " [ -81.8021341    26.1233055 ]\n",
      " [ -96.6079765    39.1897624 ]\n",
      " [-119.75834381   36.86679307]\n",
      " [ -88.91143476   38.32357607]\n",
      " [ -82.7261977    28.02935728]\n",
      " [ -92.3430622    34.75162206]\n",
      " [ -76.08085951   38.77357043]\n",
      " [ -81.8021341    26.1233055 ]\n",
      " [ -78.06631614   36.53935095]\n",
      " [ -81.7451949    26.662534  ]\n",
      " [ -88.329984     42.03710903]\n",
      " [ -82.6759185    28.20991524]\n",
      " [ -81.7165369    26.252447  ]\n",
      " [-122.91646147   39.05140884]\n",
      " [ -73.78572279   40.91691586]\n",
      " [-119.75834381   36.86679307]\n",
      " [ -81.9235574    26.5387009 ]\n",
      " [-122.2891414    37.8908683 ]\n",
      " [-112.05897023   33.5080889 ]\n",
      " [ -92.3430622    34.75162206]\n",
      " [ -73.1423127    40.9123844 ]\n",
      " [ -82.6293824    34.53104309]\n",
      " [ -80.0603851    26.70986601]\n",
      " [ -80.2967122    27.29098222]\n",
      " [ -99.49205921   27.54442891]\n",
      " [ -68.80120689   44.79615665]\n",
      " [ -82.62850315   27.49154138]\n",
      " [ -72.65099006   40.93178694]\n",
      " [-115.13250519   36.12861041]\n",
      " [ -97.6794662    30.6472972 ]\n",
      " [-116.97254604   33.73490117]\n",
      " [ -85.97219789   41.71590693]\n",
      " [ -76.6944372    39.930795  ]\n",
      " [-119.75834381   36.86679307]\n",
      " [ -82.4766899    27.957842  ]\n",
      " [-119.75834381   36.86679307]\n",
      " [ -83.94983344   43.52245395]\n",
      " [ -87.8360624    41.9401386 ]\n",
      " [ -78.06631614   36.53935095]\n",
      " [ -96.77365663   32.79259951]\n",
      " [ -73.1423127    40.9123844 ]\n",
      " [ -73.7079749    41.028118  ]\n",
      " [ -87.49965992   41.54789793]\n",
      " [ -94.1284081    36.1089118 ]\n",
      " [ -86.3020671    36.23639541]\n",
      " [ -87.994835     43.7955257 ]\n",
      " [ -77.47677151   38.29760507]\n",
      " [-115.26631321   36.1935203 ]\n",
      " [ -98.10732799   29.69513739]\n",
      " [ -96.77365663   32.79259951]\n",
      " [-106.4260926    31.768225  ]\n",
      " [ -83.99990101   34.87323913]\n",
      " [ -93.09948404   34.46796965]\n",
      " [ -75.30867795   40.12633625]\n",
      " [ -97.31617492   37.70540156]\n",
      " [ -82.29668605   27.91170919]\n",
      " [ -77.1417627    38.99722675]\n",
      " [ -89.6292048    40.7836335 ]\n",
      " [ -89.6292048    40.7836335 ]\n",
      " [ -82.35412545   28.86899842]\n",
      " [ -82.48487474   28.84267976]\n",
      " [ -96.58311754   33.62922824]\n",
      " [-122.26766661   37.86801063]\n",
      " [-118.1830502    33.775878  ]\n",
      " [ -78.06631614   36.53935095]\n",
      " [ -91.07375938   30.3995914 ]\n",
      " [ -81.40624362   30.28036499]\n",
      " [ -87.73130183   42.03674463]\n",
      " [ -81.61284961   28.19720961]\n",
      " [-122.2802559    47.200195  ]\n",
      " [ -80.06777571   32.83084525]\n",
      " [ -86.22081643   35.35316585]\n",
      " [-115.1514274    36.0881701 ]\n",
      " [ -86.6392705    34.7290546 ]\n",
      " [ -68.80120689   44.79615665]\n",
      " [ -85.58857042   42.29889886]\n",
      " [ -81.8733518    26.631267  ]\n",
      " [ -87.52109373   33.25955823]\n",
      " [-106.16574195   42.80624488]\n",
      " [ -83.62775653   42.92322071]\n",
      " [ -97.28342476   37.70134914]\n",
      " [ -90.17710581   33.51608456]\n",
      " [ -88.329984     42.03710903]\n",
      " [ -98.4019009    40.582744  ]\n",
      " [ -81.8021341    26.1233055 ]\n",
      " [ -92.3430622    34.75162206]\n",
      " [ -86.6392705    34.7290546 ]\n",
      " [ -82.54689506   27.33390263]\n",
      " [ -97.7655621    30.4756677 ]\n",
      " [ -82.48487474   28.84267976]\n",
      " [ -87.34128389   41.41434988]\n",
      " [ -76.21366239   36.85498444]\n",
      " [ -89.6292048    40.7836335 ]\n",
      " [ -97.28342476   37.70134914]\n",
      " [ -80.2967122    27.29098222]\n",
      " [ -76.08085951   38.77357043]\n",
      " [ -98.559433     33.8394899 ]\n",
      " [ -80.36005185   33.90747415]\n",
      " [ -89.84473049   35.0803636 ]\n",
      " [-115.13250519   36.12861041]\n",
      " [ -81.8808079    28.763239  ]\n",
      " [ -84.89020816   39.83214761]\n",
      " [-106.7152479    34.4460124 ]\n",
      " [ -86.98875302   34.59250523]\n",
      " [ -81.8808079    28.763239  ]\n",
      " [ -80.07528594   26.58345038]\n",
      " [ -90.4983865    41.5102705 ]\n",
      " [ -95.2069831    30.0271608 ]\n",
      " [ -82.78717392   30.08909345]\n",
      " [-112.22215765   33.60843518]\n",
      " [ -81.7165369    26.252447  ]\n",
      " [-116.43638443   33.76720354]\n",
      " [ -75.32450159   40.02497023]\n",
      " [ -96.7890087    32.8037713 ]\n",
      " [-122.07963992   37.6997439 ]\n",
      " [ -84.2752506    34.6790731 ]\n",
      " [-111.6568515    40.26966463]\n",
      " [ -78.06631614   36.53935095]\n",
      " [ -80.6064486    41.01562453]\n",
      " [ -76.3515471    43.2501322 ]\n",
      " [-101.8735549    35.192106  ]\n",
      " [ -83.64543468   32.63832927]\n",
      " [ -82.0952536    29.1633221 ]\n",
      " [ -87.994835     43.7955257 ]\n",
      " [-115.26631321   36.1935203 ]\n",
      " [-119.17551653   34.21127057]\n",
      " [-121.1044936    37.366271  ]\n",
      " [ -80.47888824   27.78932373]\n",
      " [ -88.9934494    40.4935488 ]\n",
      " [-115.10408019   35.98183862]\n",
      " [ -86.86022298   33.47689909]\n",
      " [ -97.35068104   27.70609534]\n",
      " [ -87.21204187   30.45808945]\n",
      " [-115.10408019   35.98183862]\n",
      " [-111.96487094   41.15893393]\n",
      " [-111.94515824   41.18539679]\n",
      " [ -82.50340647   28.47785092]\n",
      " [ -86.95814911   33.34030632]\n",
      " [ -85.97219789   41.71590693]\n",
      " [ -82.06215104   26.98332792]\n",
      " [ -82.75950106   27.85376321]\n",
      " [-122.02411212   37.91934796]\n",
      " [ -81.15379592   35.2600074 ]\n",
      " [ -78.06631614   36.53935095]\n",
      " [ -82.39054227   27.10320845]\n",
      " [ -82.39054227   27.10320845]\n",
      " [ -80.16740165   26.45207369]\n",
      " [ -82.39054227   27.10320845]\n",
      " [-101.93889396   35.22306797]\n",
      " [ -77.92328234   35.37635391]\n",
      " [ -82.62850315   27.49154138]\n",
      " [ -87.68230574   41.65725112]\n",
      " [ -87.3894456    37.9670135 ]\n",
      " [ -80.08275779   26.5254758 ]\n",
      " [ -76.23694526   36.75894232]\n",
      " [ -80.2967122    27.29098222]\n",
      " [ -86.1746932    40.3270127 ]\n",
      " [-117.87952159   33.78740677]\n",
      " [-115.1611063    36.1166813 ]\n",
      " [ -86.62993434   30.44775491]\n",
      " [ -97.91624844   38.10090469]\n",
      " [ -78.06631614   36.53935095]\n",
      " [ -84.04302936   36.04471953]\n",
      " [ -82.54689506   27.33390263]\n",
      " [ -94.14639843   36.30687617]\n",
      " [ -97.5004313    26.0124561 ]\n",
      " [-122.94919277   47.0770499 ]\n",
      " [ -89.6292048    40.7836335 ]\n",
      " [ -90.08728713   32.33083074]\n",
      " [ -82.47526134   27.32189732]\n",
      " [-119.75834381   36.86679307]\n",
      " [ -73.92104225   41.70027172]\n",
      " [ -97.78636312   32.76650263]\n",
      " [-117.92909762   33.62036873]\n",
      " [ -95.70296995   29.77327629]\n",
      " [ -87.49965992   41.54789793]\n",
      " [-101.8735549    35.192106  ]\n",
      " [ -92.3430622    34.75162206]\n",
      " [ -80.27124515   26.22866245]\n",
      " [ -86.25263447   41.67348322]\n",
      " [ -82.36108938   27.71044217]\n",
      " [ -81.9235574    26.5387009 ]\n",
      " [ -85.8256381    38.3066843 ]\n",
      " [-124.15416427   40.78985931]\n",
      " [ -82.7879656    27.94611162]\n",
      " [ -86.74474874   33.5072426 ]\n",
      " [ -88.64821395   32.33813649]\n",
      " [ -81.8808079    28.763239  ]\n",
      " [-116.43638443   33.76720354]\n",
      " [ -84.11134496   34.17585788]\n",
      " [ -82.6494669    27.705343  ]\n",
      " [ -86.78999234   36.15078554]\n",
      " [ -86.90216689   41.55635893]\n",
      " [ -76.21366239   36.85498444]\n",
      " [ -80.74448271   35.32402277]\n",
      " [-119.75834381   36.86679307]\n",
      " [ -95.2069831    30.0271608 ]\n",
      " [-119.17551653   34.21127057]\n",
      " [ -86.73913727   34.23211686]\n",
      " [ -82.55311172   28.47959482]\n",
      " [ -82.62850315   27.49154138]\n",
      " [-119.3557656    36.34978975]\n",
      " [ -78.06631614   36.53935095]\n",
      " [ -81.8808079    28.763239  ]\n",
      " [ -96.83889991   32.95638289]\n",
      " [ -82.51535777   27.27011651]\n",
      " [ -82.47526134   27.32189732]\n",
      " [ -76.4336932    37.0483274 ]\n",
      " [ -78.79590561   33.76260975]\n",
      " [ -82.06487712   33.47905203]\n",
      " [ -87.66521534   41.55566514]\n",
      " [ -97.5799272    35.5112984 ]\n",
      " [ -87.994835     43.7955257 ]\n",
      " [ -82.0952536    29.1633221 ]\n",
      " [ -86.16182539   41.6855406 ]\n",
      " [ -83.2869129    30.86047   ]\n",
      " [ -86.4465342    36.392499  ]\n",
      " [ -87.994835     43.7955257 ]\n",
      " [-118.3527609    34.06692488]\n",
      " [ -97.49197411   35.60088325]\n",
      " [ -94.1284081    36.1089118 ]\n",
      " [ -81.8733518    26.631267  ]\n",
      " [ -81.36547203   35.69701221]\n",
      " [ -76.76168765   37.31775633]\n",
      " [ -87.61680965   34.75830305]\n",
      " [ -98.57028583   29.5021011 ]\n",
      " [ -81.75242037   27.99914411]\n",
      " [ -82.6293824    34.53104309]\n",
      " [ -87.3117152    36.5075757 ]\n",
      " [ -88.95643839   39.87592772]\n",
      " [ -95.85167225   36.10491958]\n",
      " [ -80.24920108   27.19505124]\n",
      " [ -97.31617492   37.70540156]\n",
      " [ -92.3430622    34.75162206]\n",
      " [ -78.79590561   33.76260975]\n",
      " [ -82.53548361   28.5510798 ]\n",
      " [-112.1787377    33.59453494]\n",
      " [ -89.6292048    40.7836335 ]\n",
      " [ -82.00293468   26.57545654]\n",
      " [ -77.0858694    38.9636691 ]\n",
      " [ -81.36696046   28.66616849]\n",
      " [-121.89598054   37.68677366]\n",
      " [ -93.09948404   34.46796965]\n",
      " [ -73.1423127    40.9123844 ]\n",
      " [ -82.62850315   27.49154138]\n",
      " [ -78.06631614   36.53935095]\n",
      " [ -81.11206057   34.04412532]\n",
      " [ -68.80120689   44.79615665]\n",
      " [ -87.994835     43.7955257 ]\n",
      " [ -80.69153129   32.38624707]\n",
      " [ -76.4373559    36.865462  ]\n",
      " [-115.0866056    36.03723143]\n",
      " [ -86.1746932    40.3270127 ]\n",
      " [ -87.66521534   41.55566514]\n",
      " [ -87.49965992   41.54789793]\n",
      " [ -97.70450808   26.19499295]\n",
      " [ -86.18127183   39.89959968]\n",
      " [-111.6568515    40.26966463]\n",
      " [ -87.0266394    41.4561761 ]\n",
      " [ -92.3430622    34.75162206]\n",
      " [ -77.0445517    39.0429951 ]\n",
      " [ -96.65205015   40.80665001]\n",
      " [ -93.2297429    37.1646362 ]\n",
      " [ -88.5646686    39.11842049]\n",
      " [ -98.57028583   29.5021011 ]\n",
      " [ -86.6392705    34.7290546 ]\n",
      " [ -81.10648647   29.2872862 ]\n",
      " [ -77.1417627    38.99722675]\n",
      " [ -82.7909169    27.905157  ]\n",
      " [-119.75834381   36.86679307]\n",
      " [ -82.54689506   27.33390263]\n",
      " [ -78.79590561   33.76260975]\n",
      " [-100.8177741    46.8323888 ]\n",
      " [ -76.21366239   36.85498444]\n",
      " [ -86.6392705    34.7290546 ]\n",
      " [ -80.2967122    27.29098222]\n",
      " [-120.70475289   35.26587463]\n",
      " [ -87.61680965   34.75830305]\n",
      " [ -77.4153509    39.460361  ]\n",
      " [-112.1787377    33.59453494]]\n"
     ]
    }
   ],
   "source": [
    "print(coordinates)"
   ]
  },
  {
   "cell_type": "code",
   "execution_count": null,
   "metadata": {
    "collapsed": false
   },
   "outputs": [],
   "source": [
    "label_color = [color_map[l] for l in labels]\n",
    "plt.scatter(coordinates[:,0],coordinates[:,1],c=label_color)\n",
    "plt.xlabel(\"Longitude\")\n",
    "plt.ylabel(\"Latitude\")\n",
    "plt.title(\"Medicare Audit Regions\")\n",
    "plt.show()"
   ]
  }
 ],
 "metadata": {
  "anaconda-cloud": {},
  "kernelspec": {
   "display_name": "Python [Root]",
   "language": "python",
   "name": "Python [Root]"
  },
  "language_info": {
   "codemirror_mode": {
    "name": "ipython",
    "version": 3
   },
   "file_extension": ".py",
   "mimetype": "text/x-python",
   "name": "python",
   "nbconvert_exporter": "python",
   "pygments_lexer": "ipython3",
   "version": "3.5.2"
  }
 },
 "nbformat": 4,
 "nbformat_minor": 0
}
