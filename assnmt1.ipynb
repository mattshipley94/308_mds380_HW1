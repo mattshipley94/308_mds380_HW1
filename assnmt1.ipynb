{
 "cells": [
  {
   "cell_type": "code",
   "execution_count": 21,
   "metadata": {
    "collapsed": false
   },
   "outputs": [],
   "source": [
    "import matplotlib\n",
    "import numpy as np\n",
    "import pandas as pd\n",
    "import matplotlib.mlab as mlab\n",
    "import matplotlib.pyplot as plt\n",
    "import scipy as sc\n",
    "import csv\n",
    "import plotly as py\n",
    "import googlemaps as goog\n",
    "import geopy as geo\n",
    "import sklearn as skl\n",
    "from sklearn import cluster\n",
    "\n",
    "# import data table as a data frame\n",
    "#MedicareTable = pd.read_table('D:\\Medicare_Aggregate\\Medicare_Physician_and_Other_Supplier_NPI_Aggregate_CY2014.txt', sep='\\t',engine='python')"
   ]
  },
  {
   "cell_type": "code",
   "execution_count": 13,
   "metadata": {
    "collapsed": false
   },
   "outputs": [],
   "source": [
    "#Display 100 rows from columns\n",
    "#MedicareTable.loc[1:20,:]\n",
    "\n",
    "#pd.describe(MedicareTable.loc[:, 'average_Medicare_standard_amt'])\n",
    "#MedicareTable['total_drug_unique_benes'].dropna().describe()"
   ]
  },
  {
   "cell_type": "code",
   "execution_count": null,
   "metadata": {
    "collapsed": false
   },
   "outputs": [],
   "source": [
    "#submittedCharge = MedicareTable[MedicareTable['nppes_entity_code']=='I'].loc[:,'total_submitted_chrg_amt']\n",
    "#medicarePayment = MedicareTable[MedicareTable['nppes_entity_code']=='I'].loc[:,'total_medicare_payment_amt']\n",
    "#\n",
    "#plt.scatter(submittedCharge, (medicarePayment/submittedCharge))\n",
    "#plt.show()"
   ]
  },
  {
   "cell_type": "code",
   "execution_count": 7,
   "metadata": {
    "collapsed": false,
    "scrolled": true
   },
   "outputs": [],
   "source": [
    "# Create new matrix, selectedVarMatrix, containing only our three variables to cluster on\n",
    "selectedVar = ['total_services','total_submitted_chrg_amt','total_medicare_stnd_amt']\n",
    "reducedVarMatrix = MedicareTable[MedicareTable['nppes_entity_code']=='I'].loc[:,selectedVar]\n",
    "#figure = pd.tools.plotting.scatter_matrix(selectedVarMatrix, alpha=0.2, figsize=(15,15))\n",
    "#plt.show()\n"
   ]
  },
  {
   "cell_type": "code",
   "execution_count": 5,
   "metadata": {
    "collapsed": false
   },
   "outputs": [],
   "source": [
    "# Create reducedVarMatrix, which eliminates any tuples containing \n",
    "#reducedVarMatrix = selectedVarMatrix[pd.notnull(MedicareTable['total_services'])].loc[:,:]\n",
    "#reducedVarMatrix = reducedVarMatrix[pd.notnull(reducedVarMatrix['total_submitted_chrg_amt'])].loc[:,:]\n",
    "#reducedVarMatrix = reducedVarMatrix[pd.notnull(reducedVarMatrix['total_medicare_stnd_amt'])].loc[:,:]\n",
    "#reducedVarMatrix = selectedVarMatrix"
   ]
  },
  {
   "cell_type": "code",
   "execution_count": 8,
   "metadata": {
    "collapsed": false
   },
   "outputs": [
    {
     "name": "stdout",
     "output_type": "stream",
     "text": [
      "Column one mean is now:  4.58262581174e-17\n",
      "Column two standard deviation is now:  1.0\n"
     ]
    }
   ],
   "source": [
    "# Normalize variables\n",
    "normVarMatrix = skl.preprocessing.normalize(reducedVarMatrix, norm='l1', axis=0)\n",
    "\n",
    "scale = skl.preprocessing.StandardScaler().fit(reducedVarMatrix[:])\n",
    "normVarMatrix = scale.transform(reducedVarMatrix[:])\n",
    "\n",
    "print(\"Column one mean is now: \", np.mean(normVarMatrix[:,0]))\n",
    "print(\"Column two standard deviation is now: \", np.std(normVarMatrix[:,1]))"
   ]
  },
  {
   "cell_type": "code",
   "execution_count": 10,
   "metadata": {
    "collapsed": false
   },
   "outputs": [],
   "source": [
    "#Split data into 5 random samples\n",
    "#randomSampleLength = len(normVarMatrix[:,0])\n",
    "#random = np.random.uniform(low = 0.0, high=5.0, size=randomSampleLength)\n",
    "\n",
    "#random1 = all(0.0 <= random < 1)\n",
    "#sample1 = normVarMatrix[(0.0 <= random < 1), :]\n",
    "#random >= 0\n",
    "\n",
    "#sample1 = normVarMatrix[0:50000,:]"
   ]
  },
  {
   "cell_type": "code",
   "execution_count": 87,
   "metadata": {
    "collapsed": false
   },
   "outputs": [
    {
     "name": "stdout",
     "output_type": "stream",
     "text": [
      "[[ -0.11784958  -0.2562531   -0.24235344]\n",
      " [ 27.68840978  16.01640696  17.64281585]\n",
      " [  1.49261886   3.45449123   3.23366325]\n",
      " [  0.19932412   0.75112611   0.68047754]\n",
      " [  7.69666604   8.88652929   9.44396467]]\n",
      "[3 3 0 ..., 0 0 0]\n"
     ]
    }
   ],
   "source": [
    "kmeans = cluster.KMeans(n_clusters = 5)\n",
    "kmeans.fit(normVarMatrix)\n",
    "\n",
    "centroid = kmeans.cluster_centers_\n",
    "labels = kmeans.labels_\n",
    "\n",
    "print(centroid)\n",
    "print(labels)"
   ]
  },
  {
   "cell_type": "code",
   "execution_count": null,
   "metadata": {
    "collapsed": false
   },
   "outputs": [],
   "source": [
    "color_map = {0:'r',\n",
    "            1:'k',\n",
    "            2:'b',\n",
    "            3:'r',\n",
    "            4:'c',\n",
    "            5:'m',\n",
    "            6:'y',\n",
    "            7:'w',\n",
    "            8:'b',\n",
    "            9:'y', }\n",
    "\n",
    "label_color = [color_map[l] for l in labels]\n",
    "\n",
    "plt.scatter(reducedVarMatrix.loc[:,'total_submitted_chrg_amt'],reducedVarMatrix.loc[:,'total_medicare_stnd_amt'],c=label_color)\n",
    "plt.show()"
   ]
  },
  {
   "cell_type": "code",
   "execution_count": 43,
   "metadata": {
    "collapsed": false
   },
   "outputs": [],
   "source": [
    "#figure = pd.tools.plotting.scatter_matrix(selectedVarMatrix, alpha=0.2, figsize=(15,15))\n",
    "#plt.show()"
   ]
  },
  {
   "cell_type": "code",
   "execution_count": null,
   "metadata": {
    "collapsed": true
   },
   "outputs": [],
   "source": [
    "outliers=MedicareTable[labels==1].loc[:,'nppes_provider_zip']\n",
    "outliers=outliers[0:300,:]"
   ]
  },
  {
   "cell_type": "code",
   "execution_count": null,
   "metadata": {
    "collapsed": false
   },
   "outputs": [],
   "source": [
    "newZips = np.arange(len(outliers))\n",
    "\n",
    "for i in range(len(outliers)):\n",
    "    if int(outliers[i]) > 99999:\n",
    "        remainder = int(outliers[i]) % 10000\n",
    "        newZips[i] = int(outliers[i]) - remainder\n",
    "        newZips[i] = int(outliers[i])/10000\n",
    "    else:\n",
    "        remainder = int(outliers[i]) % 10000000\n",
    "        newZips[i] = int(outliers[i]) - remainder\n",
    "        newZips[i] = int(outliers[i])/10000"
   ]
  },
  {
   "cell_type": "code",
   "execution_count": 72,
   "metadata": {
    "collapsed": false
   },
   "outputs": [],
   "source": [
    "for i in range(len(newZips)):\n",
    "    if newZips[i] < 10000:\n",
    "        np.delete(newZips, i)"
   ]
  },
  {
   "cell_type": "code",
   "execution_count": 73,
   "metadata": {
    "collapsed": false
   },
   "outputs": [
    {
     "name": "stdout",
     "output_type": "stream",
     "text": [
      "States Road, St Anne's on the Sea, Lancs, North West England, England, UK\n"
     ]
    }
   ],
   "source": [
    "longitudes = np.arange(len(outliers))\n",
    "latitudes = np.arange(len(outliers))\n",
    "geolocator = geo.geocoders.Nominatim()\n",
    "\n",
    "for i in range(len(outliers)):\n",
    "    zipcode = str(newZips[i])\n",
    "    USA = \", United States\"\n",
    "    search = zipcode + USA\n",
    "    location = geolocator.geocode(newZips[i])\n",
    "    if ((location is None) == False):\n",
    "        latitudes[i] = location.latitude\n",
    "        longitudes[i] = location.longitude"
   ]
  },
  {
   "cell_type": "code",
   "execution_count": null,
   "metadata": {
    "collapsed": true
   },
   "outputs": [],
   "source": [
    "coordinates = [longitudes, latitudes]\n",
    "\n",
    "kmeans = cluster.KMeans(n_clusters = 4)\n",
    "kmeans.fit(coordinates)\n",
    "\n",
    "centroid = kmeans.cluster_centers_\n",
    "labels = kmeans.labels_\n",
    "\n",
    "print(centroid)\n",
    "print(labels)"
   ]
  },
  {
   "cell_type": "code",
   "execution_count": null,
   "metadata": {
    "collapsed": true
   },
   "outputs": [],
   "source": [
    "plt.scatter(longitudes,latitudes,c=label_color)\n",
    "plt.show()"
   ]
  }
 ],
 "metadata": {
  "anaconda-cloud": {},
  "kernelspec": {
   "display_name": "Python [Root]",
   "language": "python",
   "name": "Python [Root]"
  },
  "language_info": {
   "codemirror_mode": {
    "name": "ipython",
    "version": 3
   },
   "file_extension": ".py",
   "mimetype": "text/x-python",
   "name": "python",
   "nbconvert_exporter": "python",
   "pygments_lexer": "ipython3",
   "version": "3.5.2"
  }
 },
 "nbformat": 4,
 "nbformat_minor": 0
}
